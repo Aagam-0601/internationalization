{
 "cells": [
  {
   "cell_type": "code",
   "execution_count": 12,
   "id": "0c38018d-010d-49ec-bbae-584fbbde23a9",
   "metadata": {},
   "outputs": [
    {
     "name": "stdout",
     "output_type": "stream",
     "text": [
      "Requirement already satisfied: tk in c:\\users\\ashish.sheth.aagam\\appdata\\local\\anaconda3\\lib\\site-packages (0.1.0)\n",
      "Requirement already satisfied: googletrans==4.0.0-rc1 in c:\\users\\ashish.sheth.aagam\\appdata\\local\\anaconda3\\lib\\site-packages (4.0.0rc1)\n",
      "Requirement already satisfied: httpx==0.13.3 in c:\\users\\ashish.sheth.aagam\\appdata\\local\\anaconda3\\lib\\site-packages (from googletrans==4.0.0-rc1) (0.13.3)\n",
      "Requirement already satisfied: certifi in c:\\users\\ashish.sheth.aagam\\appdata\\local\\anaconda3\\lib\\site-packages (from httpx==0.13.3->googletrans==4.0.0-rc1) (2024.2.2)\n",
      "Requirement already satisfied: hstspreload in c:\\users\\ashish.sheth.aagam\\appdata\\local\\anaconda3\\lib\\site-packages (from httpx==0.13.3->googletrans==4.0.0-rc1) (2024.4.1)\n",
      "Requirement already satisfied: sniffio in c:\\users\\ashish.sheth.aagam\\appdata\\local\\anaconda3\\lib\\site-packages (from httpx==0.13.3->googletrans==4.0.0-rc1) (1.3.0)\n",
      "Requirement already satisfied: chardet==3.* in c:\\users\\ashish.sheth.aagam\\appdata\\local\\anaconda3\\lib\\site-packages (from httpx==0.13.3->googletrans==4.0.0-rc1) (3.0.4)\n",
      "Requirement already satisfied: idna==2.* in c:\\users\\ashish.sheth.aagam\\appdata\\local\\anaconda3\\lib\\site-packages (from httpx==0.13.3->googletrans==4.0.0-rc1) (2.10)\n",
      "Requirement already satisfied: rfc3986<2,>=1.3 in c:\\users\\ashish.sheth.aagam\\appdata\\local\\anaconda3\\lib\\site-packages (from httpx==0.13.3->googletrans==4.0.0-rc1) (1.5.0)\n",
      "Requirement already satisfied: httpcore==0.9.* in c:\\users\\ashish.sheth.aagam\\appdata\\local\\anaconda3\\lib\\site-packages (from httpx==0.13.3->googletrans==4.0.0-rc1) (0.9.1)\n",
      "Requirement already satisfied: h11<0.10,>=0.8 in c:\\users\\ashish.sheth.aagam\\appdata\\local\\anaconda3\\lib\\site-packages (from httpcore==0.9.*->httpx==0.13.3->googletrans==4.0.0-rc1) (0.9.0)\n",
      "Requirement already satisfied: h2==3.* in c:\\users\\ashish.sheth.aagam\\appdata\\local\\anaconda3\\lib\\site-packages (from httpcore==0.9.*->httpx==0.13.3->googletrans==4.0.0-rc1) (3.2.0)\n",
      "Requirement already satisfied: hyperframe<6,>=5.2.0 in c:\\users\\ashish.sheth.aagam\\appdata\\local\\anaconda3\\lib\\site-packages (from h2==3.*->httpcore==0.9.*->httpx==0.13.3->googletrans==4.0.0-rc1) (5.2.0)\n",
      "Requirement already satisfied: hpack<4,>=3.0 in c:\\users\\ashish.sheth.aagam\\appdata\\local\\anaconda3\\lib\\site-packages (from h2==3.*->httpcore==0.9.*->httpx==0.13.3->googletrans==4.0.0-rc1) (3.0.0)\n",
      "Requirement already satisfied: python-docx in c:\\users\\ashish.sheth.aagam\\appdata\\local\\anaconda3\\lib\\site-packages (1.1.0)\n",
      "Requirement already satisfied: lxml>=3.1.0 in c:\\users\\ashish.sheth.aagam\\appdata\\local\\anaconda3\\lib\\site-packages (from python-docx) (4.9.3)\n",
      "Requirement already satisfied: typing-extensions in c:\\users\\ashish.sheth.aagam\\appdata\\local\\anaconda3\\lib\\site-packages (from python-docx) (4.9.0)\n",
      "Requirement already satisfied: PyPDF2 in c:\\users\\ashish.sheth.aagam\\appdata\\local\\anaconda3\\lib\\site-packages (3.0.1)\n",
      "Requirement already satisfied: pdfplumber in c:\\users\\ashish.sheth.aagam\\appdata\\local\\anaconda3\\lib\\site-packages (0.11.0)\n",
      "Requirement already satisfied: pdfminer.six==20231228 in c:\\users\\ashish.sheth.aagam\\appdata\\local\\anaconda3\\lib\\site-packages (from pdfplumber) (20231228)\n",
      "Requirement already satisfied: Pillow>=9.1 in c:\\users\\ashish.sheth.aagam\\appdata\\local\\anaconda3\\lib\\site-packages (from pdfplumber) (10.2.0)\n",
      "Requirement already satisfied: pypdfium2>=4.18.0 in c:\\users\\ashish.sheth.aagam\\appdata\\local\\anaconda3\\lib\\site-packages (from pdfplumber) (4.29.0)\n",
      "Requirement already satisfied: charset-normalizer>=2.0.0 in c:\\users\\ashish.sheth.aagam\\appdata\\local\\anaconda3\\lib\\site-packages (from pdfminer.six==20231228->pdfplumber) (2.0.4)\n",
      "Requirement already satisfied: cryptography>=36.0.0 in c:\\users\\ashish.sheth.aagam\\appdata\\local\\anaconda3\\lib\\site-packages (from pdfminer.six==20231228->pdfplumber) (42.0.2)\n",
      "Requirement already satisfied: cffi>=1.12 in c:\\users\\ashish.sheth.aagam\\appdata\\local\\anaconda3\\lib\\site-packages (from cryptography>=36.0.0->pdfminer.six==20231228->pdfplumber) (1.16.0)\n",
      "Requirement already satisfied: pycparser in c:\\users\\ashish.sheth.aagam\\appdata\\local\\anaconda3\\lib\\site-packages (from cffi>=1.12->cryptography>=36.0.0->pdfminer.six==20231228->pdfplumber) (2.21)\n",
      "Requirement already satisfied: PyMuPDF in c:\\users\\ashish.sheth.aagam\\appdata\\local\\anaconda3\\lib\\site-packages (1.24.2)\n",
      "Requirement already satisfied: PyMuPDFb==1.24.1 in c:\\users\\ashish.sheth.aagam\\appdata\\local\\anaconda3\\lib\\site-packages (from PyMuPDF) (1.24.1)\n",
      "Requirement already satisfied: PyPDF4 in c:\\users\\ashish.sheth.aagam\\appdata\\local\\anaconda3\\lib\\site-packages (1.27.0)\n",
      "Requirement already satisfied: python-pptx in c:\\users\\ashish.sheth.aagam\\appdata\\local\\anaconda3\\lib\\site-packages (0.6.23)\n",
      "Requirement already satisfied: lxml>=3.1.0 in c:\\users\\ashish.sheth.aagam\\appdata\\local\\anaconda3\\lib\\site-packages (from python-pptx) (4.9.3)\n",
      "Requirement already satisfied: Pillow>=3.3.2 in c:\\users\\ashish.sheth.aagam\\appdata\\local\\anaconda3\\lib\\site-packages (from python-pptx) (10.2.0)\n",
      "Requirement already satisfied: XlsxWriter>=0.5.7 in c:\\users\\ashish.sheth.aagam\\appdata\\local\\anaconda3\\lib\\site-packages (from python-pptx) (3.2.0)\n",
      "Requirement already satisfied: openpyxl in c:\\users\\ashish.sheth.aagam\\appdata\\local\\anaconda3\\lib\\site-packages (3.0.10)\n",
      "Requirement already satisfied: et_xmlfile in c:\\users\\ashish.sheth.aagam\\appdata\\local\\anaconda3\\lib\\site-packages (from openpyxl) (1.1.0)\n",
      "Requirement already satisfied: PyMuPDF in c:\\users\\ashish.sheth.aagam\\appdata\\local\\anaconda3\\lib\\site-packages (1.24.2)\n",
      "Requirement already satisfied: PyMuPDFb==1.24.1 in c:\\users\\ashish.sheth.aagam\\appdata\\local\\anaconda3\\lib\\site-packages (from PyMuPDF) (1.24.1)\n",
      "Requirement already satisfied: reportlab in c:\\users\\ashish.sheth.aagam\\appdata\\local\\anaconda3\\lib\\site-packages (4.2.0)\n",
      "Requirement already satisfied: pillow>=9.0.0 in c:\\users\\ashish.sheth.aagam\\appdata\\local\\anaconda3\\lib\\site-packages (from reportlab) (10.2.0)\n",
      "Requirement already satisfied: chardet in c:\\users\\ashish.sheth.aagam\\appdata\\local\\anaconda3\\lib\\site-packages (from reportlab) (3.0.4)\n"
     ]
    }
   ],
   "source": [
    "!pip install tk\n",
    "!pip install googletrans==4.0.0-rc1\n",
    "!pip install python-docx\n",
    "!pip install PyPDF2\n",
    "!pip install pdfplumber\n",
    "!pip install PyMuPDF\n",
    "!pip install PyPDF4\n",
    "!pip install python-pptx\n",
    "!pip install openpyxl\n",
    "!pip install PyMuPDF\n",
    "!pip install reportlab\n"
   ]
  },
  {
   "cell_type": "code",
   "execution_count": 14,
   "id": "cd44cf0b-29ab-4594-bf60-4c8a5fa26aa1",
   "metadata": {},
   "outputs": [
    {
     "name": "stdout",
     "output_type": "stream",
     "text": [
      "Translated content saved as: C:\\Users\\ashish.sheth.aagam\\Downloads\\Internationalization_Final_translated_translated_translated.pptx\n"
     ]
    }
   ],
   "source": [
    "from file_translator import FileTranslator\n",
    " \n",
    "if __name__ == \"__main__\":\n",
    "    file_translator = FileTranslator()\n",
    "    file_translator.run()"
   ]
  },
  {
   "cell_type": "code",
   "execution_count": null,
   "id": "790f8678-a3e3-40cd-b75a-e715b37e71d5",
   "metadata": {},
   "outputs": [],
   "source": []
  },
  {
   "cell_type": "code",
   "execution_count": null,
   "id": "59efc842-f966-4e19-9f80-8b562c7b7f89",
   "metadata": {},
   "outputs": [],
   "source": []
  }
 ],
 "metadata": {
  "kernelspec": {
   "display_name": "Python 3 (ipykernel)",
   "language": "python",
   "name": "python3"
  },
  "language_info": {
   "codemirror_mode": {
    "name": "ipython",
    "version": 3
   },
   "file_extension": ".py",
   "mimetype": "text/x-python",
   "name": "python",
   "nbconvert_exporter": "python",
   "pygments_lexer": "ipython3",
   "version": "3.11.7"
  }
 },
 "nbformat": 4,
 "nbformat_minor": 5
}
